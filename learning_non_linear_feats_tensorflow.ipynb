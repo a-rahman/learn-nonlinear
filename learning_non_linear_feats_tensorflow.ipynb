{
 "cells": [
  {
   "cell_type": "markdown",
   "metadata": {},
   "source": [
    "# Learning Non-linear Features in Neural Networks\n",
    "---"
   ]
  },
  {
   "cell_type": "markdown",
   "metadata": {},
   "source": [
    "I had recently watched a [interview](https://youtu.be/UMpSrvGB4zs) of Geoffrey Hinton by Andrew Ng. In that interview the question of activation functions came up, and it was mentioned  how it took many layers of sigmoid activations to get a ReLU activation. This brought up something I did not have an intuitive handle on. How did a neural network learn arbitrary non-linear functions? How many layers and how much data would it take to learn such a function?\n",
    "\n",
    "Since I learn by doing, I decided to use this opportunity to play around with tensorflow to answer these questions."
   ]
  },
  {
   "cell_type": "markdown",
   "metadata": {},
   "source": [
    "## The data"
   ]
  },
  {
   "cell_type": "markdown",
   "metadata": {},
   "source": [
    "The non-linear functions I'm aiming to learn are multiplication and squaring. I feel like these are fairly simple commonly used when feature engineering, so it might be useful to know how much it would take to replicate those.\n",
    "\n",
    "So I'm going to start off with 10000 training examples. I'm not sure if I want the dependent variables to be exact or have some noise, so I will create both"
   ]
  },
  {
   "cell_type": "code",
   "execution_count": 1,
   "metadata": {},
   "outputs": [
    {
     "name": "stdout",
     "output_type": "stream",
     "text": [
      "(10000, 2) (10000, 1) (10000, 1) (10000, 1)\n"
     ]
    }
   ],
   "source": [
    "import numpy as np\n",
    "\n",
    "np.random.seed(5)\n",
    "\n",
    "n = 10000\n",
    "noise_std = 10\n",
    "X = np.random.random([2, n]).astype(np.float32)*1000\n",
    "y_mul = np.reshape(X[0]*X[1], [1, X.shape[1]])\n",
    "y_mul_noisy = y_mul + np.random.standard_normal(n)*noise_std\n",
    "y_sq = np.reshape(X[0]*X[0]**2, [1, X.shape[1]])\n",
    "y_sq_noisy = y_sq + np.random.standard_normal(n)*noise_std\n",
    "\n",
    "X, y_mul, y_mul_noisy, y_sq = X.T, y_mul.T, y_mul_noisy.T, y_sq.T \n",
    "\n",
    "print(X.shape, y_mul.shape, y_mul_noisy.shape, y_sq.shape)"
   ]
  },
  {
   "cell_type": "markdown",
   "metadata": {},
   "source": [
    "Now a neural network architecture needs to be chosen. Though it should not work, I am going with the simplest configuration, a perceptron, or single layer network. A perceptron for regression will basically look for a linear combination of the inputs to get the output. You can't really model either of the functions with a linear combination, but the errors from this will serve as a benchmark to compare other architectures to."
   ]
  },
  {
   "cell_type": "code",
   "execution_count": 2,
   "metadata": {},
   "outputs": [],
   "source": [
    "import tensorflow as tf\n",
    "\n",
    "learning_rate = 0.0001\n",
    "training_epochs = 1000\n",
    "display_step = 50\n",
    "batch_size = 200\n",
    "num_outputs = 1\n",
    "\n",
    "graph = tf.Graph()\n",
    "with graph.as_default():\n",
    "    tf_X = tf.placeholder(tf.float32, shape=(batch_size, X.shape[1]))\n",
    "    tf_Y = tf.placeholder(tf.float32, shape=(batch_size, num_outputs))\n",
    "\n",
    "    weights = tf.Variable(tf.random_normal([X.shape[1], num_outputs]))\n",
    "    bias = tf.Variable(tf.random_normal([num_outputs]))\n",
    "    bias = tf.Print(bias, [bias], message=\"Bias is: \")\n",
    "    y_hat = y_hat = tf.matmul(tf_X, weights) + bias\n",
    "    tf.Print(y_hat, [y_hat], message=\"Output is:\")\n",
    "    cost = tf.reduce_sum(tf.pow(y_hat-tf_Y, 2))/(2*n)\n",
    "    cost = tf.Print(cost, [cost], message=\"Cost is: \")\n",
    "    optimizer = tf.train.GradientDescentOptimizer(learning_rate).minimize(cost)\n",
    "    train_prediction = tf.matmul(tf_X, weights) + bias"
   ]
  },
  {
   "cell_type": "code",
   "execution_count": 3,
   "metadata": {},
   "outputs": [
    {
     "data": {
      "text/plain": [
       "(10000, 1)"
      ]
     },
     "execution_count": 3,
     "metadata": {},
     "output_type": "execute_result"
    }
   ],
   "source": [
    "# X.T[0].reshape([1,2])\n",
    "y_mul.shape"
   ]
  },
  {
   "cell_type": "code",
   "execution_count": 5,
   "metadata": {},
   "outputs": [
    {
     "name": "stdout",
     "output_type": "stream",
     "text": [
      "Minibatch cost at step 0: 1300377216.000000\n",
      "Minibatch MSE: 1300377123.244512\n",
      "Minibatch cost at step 50: 156812768.000000\n",
      "Minibatch MSE: 156812766.959641\n",
      "Minibatch cost at step 100: 168331392.000000\n",
      "Minibatch MSE: 168331399.554393\n",
      "Minibatch cost at step 150: 147304448.000000\n",
      "Minibatch MSE: 147304444.225241\n",
      "Minibatch cost at step 200: 171925584.000000\n",
      "Minibatch MSE: 171925581.524996\n",
      "Minibatch cost at step 250: 148141328.000000\n",
      "Minibatch MSE: 148141315.831436\n",
      "Minibatch cost at step 300: 165693008.000000\n",
      "Minibatch MSE: 165693001.006926\n",
      "Minibatch cost at step 350: 154232576.000000\n",
      "Minibatch MSE: 154232575.519483\n",
      "Minibatch cost at step 400: 144568976.000000\n",
      "Minibatch MSE: 144568973.521105\n",
      "Minibatch cost at step 450: 171114992.000000\n",
      "Minibatch MSE: 171115009.875684\n",
      "Minibatch cost at step 500: 147084528.000000\n",
      "Minibatch MSE: 147084515.412983\n",
      "Minibatch cost at step 550: 154816480.000000\n",
      "Minibatch MSE: 154816473.303626\n",
      "Minibatch cost at step 600: 140529920.000000\n",
      "Minibatch MSE: 140529920.930011\n",
      "Minibatch cost at step 650: 149205792.000000\n",
      "Minibatch MSE: 149205781.723304\n",
      "Minibatch cost at step 700: 146722256.000000\n",
      "Minibatch MSE: 146722264.028241\n",
      "Minibatch cost at step 750: 140878784.000000\n",
      "Minibatch MSE: 140878759.660540\n",
      "Minibatch cost at step 800: 147869792.000000\n",
      "Minibatch MSE: 147869788.341490\n",
      "Minibatch cost at step 850: 144206704.000000\n",
      "Minibatch MSE: 144206696.920650\n",
      "Minibatch cost at step 900: 175254640.000000\n",
      "Minibatch MSE: 175254646.892863\n",
      "Minibatch cost at step 950: 140156368.000000\n",
      "Minibatch MSE: 140156349.021793\n"
     ]
    }
   ],
   "source": [
    "from collections import OrderedDict\n",
    "\n",
    "def error(predictions, labels):\n",
    "  return (np.sum((predictions - labels)**2)/(2*n))\n",
    "\n",
    "errors = OrderedDict()\n",
    "\n",
    "with tf.Session(graph=graph) as sess:\n",
    "    tf.global_variables_initializer().run()\n",
    "    for epoch in range(training_epochs):\n",
    "        offset = (epoch * batch_size) % (X.shape[0] - batch_size) # Somewhat randomization of the offset\n",
    "        batch_data = X[offset:(offset + batch_size), :]\n",
    "        batch_labels = y_mul_noisy[offset:(offset + batch_size), :]\n",
    "        feed_dict = {tf_X: batch_data, tf_Y: batch_labels}\n",
    "        _, l, predictions = sess.run([optimizer, cost, train_prediction], feed_dict=feed_dict)\n",
    "        if (epoch % display_step == 0):\n",
    "            print(\"Minibatch cost at step %d: %f\" % (epoch, l))\n",
    "            print(\"Minibatch MSE: %f\" % error(predictions, batch_labels))\n",
    "            errors[epoch] = error(predictions, batch_labels)"
   ]
  },
  {
   "cell_type": "code",
   "execution_count": 6,
   "metadata": {},
   "outputs": [],
   "source": [
    "import matplotlib.pyplot as plt\n",
    "%matplotlib inline"
   ]
  },
  {
   "cell_type": "code",
   "execution_count": 7,
   "metadata": {},
   "outputs": [
    {
     "data": {
      "text/plain": [
       "[<matplotlib.lines.Line2D at 0x1c90220bf60>]"
      ]
     },
     "execution_count": 7,
     "metadata": {},
     "output_type": "execute_result"
    },
    {
     "data": {
      "image/png": "[encoded data removed]",
      "text/plain": [
       "<matplotlib.figure.Figure at 0x1c9011e2908>"
      ]
     },
     "metadata": {},
     "output_type": "display_data"
    }
   ],
   "source": [
    "plt.plot(errors.keys(), errors.values())"
   ]
  },
  {
   "cell_type": "code",
   "execution_count": null,
   "metadata": {},
   "outputs": [],
   "source": []
  },
  {
   "cell_type": "code",
   "execution_count": null,
   "metadata": {
    "collapsed": true
   },
   "outputs": [],
   "source": []
  }
 ],
 "metadata": {
  "kernelspec": {
   "display_name": "tensorflow",
   "language": "python",
   "name": "tensorflow"
  },
  "language_info": {
   "codemirror_mode": {
    "name": "ipython",
    "version": 3
   },
   "file_extension": ".py",
   "mimetype": "text/x-python",
   "name": "python",
   "nbconvert_exporter": "python",
   "pygments_lexer": "ipython3",
   "version": "3.5.4"
  }
 },
 "nbformat": 4,
 "nbformat_minor": 2
}
